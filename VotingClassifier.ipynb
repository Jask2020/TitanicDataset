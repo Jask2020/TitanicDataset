{
 "cells": [
  {
   "cell_type": "code",
   "execution_count": 1,
   "metadata": {
    "_cell_guid": "b1076dfc-b9ad-4769-8c92-a6c4dae69d19",
    "_uuid": "8f2839f25d086af736a60e9eeb907d3b93b6e0e5",
    "execution": {
     "iopub.execute_input": "2020-12-14T07:10:14.032061Z",
     "iopub.status.busy": "2020-12-14T07:10:14.031444Z",
     "iopub.status.idle": "2020-12-14T07:10:14.038907Z",
     "shell.execute_reply": "2020-12-14T07:10:14.038198Z"
    },
    "papermill": {
     "duration": 0.036946,
     "end_time": "2020-12-14T07:10:14.039025",
     "exception": false,
     "start_time": "2020-12-14T07:10:14.002079",
     "status": "completed"
    },
    "tags": []
   },
   "outputs": [
    {
     "name": "stdout",
     "output_type": "stream",
     "text": [
      "/kaggle/input/titanic/train.csv\n",
      "/kaggle/input/titanic/test.csv\n",
      "/kaggle/input/titanic/gender_submission.csv\n"
     ]
    }
   ],
   "source": [
    "# This Python 3 environment comes with many helpful analytics libraries installed\n",
    "# It is defined by the kaggle/python Docker image: https://github.com/kaggle/docker-python\n",
    "# For example, here's several helpful packages to load\n",
    "\n",
    "import numpy as np # linear algebra\n",
    "import pandas as pd # data processing, CSV file I/O (e.g. pd.read_csv)\n",
    "\n",
    "# Input data files are available in the read-only \"../input/\" directory\n",
    "# For example, running this (by clicking run or pressing Shift+Enter) will list all files under the input directory\n",
    "\n",
    "import os\n",
    "for dirname, _, filenames in os.walk('/kaggle/input'):\n",
    "    for filename in filenames:\n",
    "        print(os.path.join(dirname, filename))\n",
    "\n",
    "# You can write up to 20GB to the current directory (/kaggle/working/) that gets preserved as output when you create a version using \"Save & Run All\" \n",
    "# You can also write temporary files to /kaggle/temp/, but they won't be saved outside of the current session"
   ]
  },
  {
   "cell_type": "code",
   "execution_count": 2,
   "metadata": {
    "_cell_guid": "79c7e3d0-c299-4dcb-8224-4455121ee9b0",
    "_uuid": "d629ff2d2480ee46fbb7e2d37f6b5fab8052498a",
    "execution": {
     "iopub.execute_input": "2020-12-14T07:10:14.077444Z",
     "iopub.status.busy": "2020-12-14T07:10:14.076768Z",
     "iopub.status.idle": "2020-12-14T07:10:15.243313Z",
     "shell.execute_reply": "2020-12-14T07:10:15.242641Z"
    },
    "papermill": {
     "duration": 1.190976,
     "end_time": "2020-12-14T07:10:15.243432",
     "exception": false,
     "start_time": "2020-12-14T07:10:14.052456",
     "status": "completed"
    },
    "tags": []
   },
   "outputs": [],
   "source": [
    "from sklearn.model_selection import train_test_split\n",
    "from sklearn.preprocessing import StandardScaler\n",
    "\n",
    "df = pd.read_csv('/kaggle/input/titanic/train.csv')\n",
    "dftest = pd.read_csv('/kaggle/input/titanic/test.csv')\n",
    "extra = pd.read_csv('/kaggle/input/titanic/gender_submission.csv')\n",
    "df.drop(['Name','Ticket', 'Cabin', 'Embarked'], axis=1, inplace=True)\n",
    "df = pd.merge(df, pd.get_dummies(df, columns=['Sex']))\n",
    "df['Target'] = df['Survived']\n",
    "df.drop('Survived', axis=1, inplace=True)\n",
    "df['Age'] = df['Age'].fillna(np.mean(df['Age']))\n",
    "df.drop('Sex', axis=1,inplace=True)\n",
    "X = df.iloc[:,:8]\n",
    "y = df.iloc[:,8]\n",
    "dftest = pd.read_csv('/kaggle/input/titanic/test.csv')\n",
    "dftest.drop(['Name','Ticket','Cabin','Embarked'], axis=1, inplace=True)\n",
    "dftest = pd.merge(dftest, pd.get_dummies(dftest, columns=['Sex']))\n",
    "dftest['Age'] = dftest['Age'].fillna(np.mean(dftest['Age']))\n",
    "dftest.drop('Sex', axis=1,inplace=True)\n",
    "dftest['Fare'] = dftest['Fare'].fillna(np.mean(dftest['Fare']))\n"
   ]
  },
  {
   "cell_type": "code",
   "execution_count": 3,
   "metadata": {
    "execution": {
     "iopub.execute_input": "2020-12-14T07:10:15.283607Z",
     "iopub.status.busy": "2020-12-14T07:10:15.282926Z",
     "iopub.status.idle": "2020-12-14T07:10:15.673247Z",
     "shell.execute_reply": "2020-12-14T07:10:15.672666Z"
    },
    "papermill": {
     "duration": 0.414627,
     "end_time": "2020-12-14T07:10:15.673352",
     "exception": false,
     "start_time": "2020-12-14T07:10:15.258725",
     "status": "completed"
    },
    "tags": []
   },
   "outputs": [
    {
     "data": {
      "text/plain": [
       "0.8161434977578476"
      ]
     },
     "execution_count": 3,
     "metadata": {},
     "output_type": "execute_result"
    }
   ],
   "source": [
    "from sklearn.ensemble import GradientBoostingClassifier\n",
    "\n",
    "X_train, X_test, y_train, y_test = train_test_split(X, y, random_state = 0)\n",
    "clf = GradientBoostingClassifier(n_estimators=100, learning_rate = 0.1, max_depth=3).fit(X_train, y_train)\n",
    "\n",
    "clf.score(X_test, y_test)"
   ]
  },
  {
   "cell_type": "code",
   "execution_count": 4,
   "metadata": {
    "execution": {
     "iopub.execute_input": "2020-12-14T07:10:15.708620Z",
     "iopub.status.busy": "2020-12-14T07:10:15.707741Z",
     "iopub.status.idle": "2020-12-14T07:10:16.149458Z",
     "shell.execute_reply": "2020-12-14T07:10:16.150116Z"
    },
    "papermill": {
     "duration": 0.463832,
     "end_time": "2020-12-14T07:10:16.150291",
     "exception": false,
     "start_time": "2020-12-14T07:10:15.686459",
     "status": "completed"
    },
    "tags": []
   },
   "outputs": [
    {
     "data": {
      "text/plain": [
       "GradientBoostingClassifier(learning_rate=0.01, max_depth=4, n_estimators=200)"
      ]
     },
     "execution_count": 4,
     "metadata": {},
     "output_type": "execute_result"
    }
   ],
   "source": [
    "from sklearn.model_selection import GridSearchCV\n",
    "\n",
    "clf = GradientBoostingClassifier(learning_rate=0.01, max_depth=4, n_estimators=200)\n",
    "\n",
    "clf.fit(X, y)\n"
   ]
  },
  {
   "cell_type": "code",
   "execution_count": 5,
   "metadata": {
    "execution": {
     "iopub.execute_input": "2020-12-14T07:10:16.208224Z",
     "iopub.status.busy": "2020-12-14T07:10:16.199052Z",
     "iopub.status.idle": "2020-12-14T07:10:16.219185Z",
     "shell.execute_reply": "2020-12-14T07:10:16.218412Z"
    },
    "papermill": {
     "duration": 0.048902,
     "end_time": "2020-12-14T07:10:16.219314",
     "exception": false,
     "start_time": "2020-12-14T07:10:16.170412",
     "status": "completed"
    },
    "tags": []
   },
   "outputs": [
    {
     "data": {
      "text/html": [
       "<div>\n",
       "<style scoped>\n",
       "    .dataframe tbody tr th:only-of-type {\n",
       "        vertical-align: middle;\n",
       "    }\n",
       "\n",
       "    .dataframe tbody tr th {\n",
       "        vertical-align: top;\n",
       "    }\n",
       "\n",
       "    .dataframe thead th {\n",
       "        text-align: right;\n",
       "    }\n",
       "</style>\n",
       "<table border=\"1\" class=\"dataframe\">\n",
       "  <thead>\n",
       "    <tr style=\"text-align: right;\">\n",
       "      <th></th>\n",
       "      <th>PassengerId</th>\n",
       "      <th>Survived</th>\n",
       "    </tr>\n",
       "  </thead>\n",
       "  <tbody>\n",
       "    <tr>\n",
       "      <th>0</th>\n",
       "      <td>892</td>\n",
       "      <td>0</td>\n",
       "    </tr>\n",
       "    <tr>\n",
       "      <th>1</th>\n",
       "      <td>893</td>\n",
       "      <td>0</td>\n",
       "    </tr>\n",
       "    <tr>\n",
       "      <th>2</th>\n",
       "      <td>894</td>\n",
       "      <td>0</td>\n",
       "    </tr>\n",
       "    <tr>\n",
       "      <th>3</th>\n",
       "      <td>895</td>\n",
       "      <td>0</td>\n",
       "    </tr>\n",
       "    <tr>\n",
       "      <th>4</th>\n",
       "      <td>896</td>\n",
       "      <td>0</td>\n",
       "    </tr>\n",
       "    <tr>\n",
       "      <th>...</th>\n",
       "      <td>...</td>\n",
       "      <td>...</td>\n",
       "    </tr>\n",
       "    <tr>\n",
       "      <th>413</th>\n",
       "      <td>1305</td>\n",
       "      <td>0</td>\n",
       "    </tr>\n",
       "    <tr>\n",
       "      <th>414</th>\n",
       "      <td>1306</td>\n",
       "      <td>1</td>\n",
       "    </tr>\n",
       "    <tr>\n",
       "      <th>415</th>\n",
       "      <td>1307</td>\n",
       "      <td>0</td>\n",
       "    </tr>\n",
       "    <tr>\n",
       "      <th>416</th>\n",
       "      <td>1308</td>\n",
       "      <td>0</td>\n",
       "    </tr>\n",
       "    <tr>\n",
       "      <th>417</th>\n",
       "      <td>1309</td>\n",
       "      <td>0</td>\n",
       "    </tr>\n",
       "  </tbody>\n",
       "</table>\n",
       "<p>418 rows × 2 columns</p>\n",
       "</div>"
      ],
      "text/plain": [
       "     PassengerId  Survived\n",
       "0            892         0\n",
       "1            893         0\n",
       "2            894         0\n",
       "3            895         0\n",
       "4            896         0\n",
       "..           ...       ...\n",
       "413         1305         0\n",
       "414         1306         1\n",
       "415         1307         0\n",
       "416         1308         0\n",
       "417         1309         0\n",
       "\n",
       "[418 rows x 2 columns]"
      ]
     },
     "execution_count": 5,
     "metadata": {},
     "output_type": "execute_result"
    }
   ],
   "source": [
    "results = pd.DataFrame({'PassengerId':dftest['PassengerId'], 'Survived':clf.predict(dftest)})\n",
    "\n",
    "results"
   ]
  },
  {
   "cell_type": "code",
   "execution_count": 6,
   "metadata": {
    "execution": {
     "iopub.execute_input": "2020-12-14T07:10:16.266861Z",
     "iopub.status.busy": "2020-12-14T07:10:16.266052Z",
     "iopub.status.idle": "2020-12-14T07:10:16.698500Z",
     "shell.execute_reply": "2020-12-14T07:10:16.697394Z"
    },
    "papermill": {
     "duration": 0.458405,
     "end_time": "2020-12-14T07:10:16.698722",
     "exception": false,
     "start_time": "2020-12-14T07:10:16.240317",
     "status": "completed"
    },
    "tags": []
   },
   "outputs": [],
   "source": [
    "results.to_csv('submission.csv', index=False)"
   ]
  },
  {
   "cell_type": "code",
   "execution_count": 7,
   "metadata": {
    "execution": {
     "iopub.execute_input": "2020-12-14T07:10:16.747833Z",
     "iopub.status.busy": "2020-12-14T07:10:16.746966Z",
     "iopub.status.idle": "2020-12-14T07:10:16.749914Z",
     "shell.execute_reply": "2020-12-14T07:10:16.749124Z"
    },
    "papermill": {
     "duration": 0.029526,
     "end_time": "2020-12-14T07:10:16.750040",
     "exception": false,
     "start_time": "2020-12-14T07:10:16.720514",
     "status": "completed"
    },
    "tags": []
   },
   "outputs": [],
   "source": [
    "gbt_clf = clf"
   ]
  },
  {
   "cell_type": "code",
   "execution_count": 8,
   "metadata": {
    "execution": {
     "iopub.execute_input": "2020-12-14T07:10:16.803484Z",
     "iopub.status.busy": "2020-12-14T07:10:16.802613Z",
     "iopub.status.idle": "2020-12-14T07:10:17.017714Z",
     "shell.execute_reply": "2020-12-14T07:10:17.018402Z"
    },
    "papermill": {
     "duration": 0.246205,
     "end_time": "2020-12-14T07:10:17.018571",
     "exception": false,
     "start_time": "2020-12-14T07:10:16.772366",
     "status": "completed"
    },
    "tags": []
   },
   "outputs": [],
   "source": [
    "from sklearn.linear_model import LogisticRegression\n",
    "clf = LogisticRegression(C=10,max_iter=1000).fit(X_train, y_train)\n",
    "clf.score(X_test, y_test)\n",
    "\n",
    "clf = LogisticRegression(C=10,max_iter=1000).fit(X, y)\n",
    "\n",
    "log_clf = clf"
   ]
  },
  {
   "cell_type": "code",
   "execution_count": 9,
   "metadata": {
    "execution": {
     "iopub.execute_input": "2020-12-14T07:10:17.070535Z",
     "iopub.status.busy": "2020-12-14T07:10:17.069793Z",
     "iopub.status.idle": "2020-12-14T07:10:17.131458Z",
     "shell.execute_reply": "2020-12-14T07:10:17.132175Z"
    },
    "papermill": {
     "duration": 0.092135,
     "end_time": "2020-12-14T07:10:17.132340",
     "exception": false,
     "start_time": "2020-12-14T07:10:17.040205",
     "status": "completed"
    },
    "tags": []
   },
   "outputs": [
    {
     "data": {
      "text/plain": [
       "0.6636771300448431"
      ]
     },
     "execution_count": 9,
     "metadata": {},
     "output_type": "execute_result"
    }
   ],
   "source": [
    "from sklearn.neighbors import KNeighborsClassifier\n",
    "from sklearn.svm import SVC\n",
    "\n",
    "svm_clf = SVC()\n",
    "svm_clf.fit(X_train, y_train)\n",
    "svm_clf.score(X_test, y_test)"
   ]
  },
  {
   "cell_type": "code",
   "execution_count": 10,
   "metadata": {
    "execution": {
     "iopub.execute_input": "2020-12-14T07:10:17.186297Z",
     "iopub.status.busy": "2020-12-14T07:10:17.185401Z",
     "iopub.status.idle": "2020-12-14T07:14:45.552910Z",
     "shell.execute_reply": "2020-12-14T07:14:45.553612Z"
    },
    "papermill": {
     "duration": 268.398464,
     "end_time": "2020-12-14T07:14:45.553771",
     "exception": false,
     "start_time": "2020-12-14T07:10:17.155307",
     "status": "completed"
    },
    "tags": []
   },
   "outputs": [
    {
     "data": {
      "text/plain": [
       "SVC(kernel='linear')"
      ]
     },
     "execution_count": 10,
     "metadata": {},
     "output_type": "execute_result"
    }
   ],
   "source": [
    "svm_clf = SVC()\n",
    "grid_values = {'kernel': ['poly', 'linear', 'rbf', 'sigmoid']}\n",
    "grid_clf_acc = GridSearchCV(svm_clf, param_grid = grid_values)\n",
    "grid_clf_acc.fit(X_train, y_train)\n",
    "\n",
    "grid_clf_acc.best_estimator_\n"
   ]
  },
  {
   "cell_type": "code",
   "execution_count": 11,
   "metadata": {
    "execution": {
     "iopub.execute_input": "2020-12-14T07:14:45.608213Z",
     "iopub.status.busy": "2020-12-14T07:14:45.607379Z",
     "iopub.status.idle": "2020-12-14T07:14:45.617016Z",
     "shell.execute_reply": "2020-12-14T07:14:45.616315Z"
    },
    "papermill": {
     "duration": 0.040431,
     "end_time": "2020-12-14T07:14:45.617159",
     "exception": false,
     "start_time": "2020-12-14T07:14:45.576728",
     "status": "completed"
    },
    "tags": []
   },
   "outputs": [
    {
     "data": {
      "text/plain": [
       "0.7802690582959642"
      ]
     },
     "execution_count": 11,
     "metadata": {},
     "output_type": "execute_result"
    }
   ],
   "source": [
    "grid_clf_acc.score(X_test, y_test)"
   ]
  },
  {
   "cell_type": "code",
   "execution_count": 12,
   "metadata": {
    "execution": {
     "iopub.execute_input": "2020-12-14T07:14:45.672264Z",
     "iopub.status.busy": "2020-12-14T07:14:45.671509Z",
     "iopub.status.idle": "2020-12-14T07:15:31.395798Z",
     "shell.execute_reply": "2020-12-14T07:15:31.395085Z"
    },
    "papermill": {
     "duration": 45.755452,
     "end_time": "2020-12-14T07:15:31.395922",
     "exception": false,
     "start_time": "2020-12-14T07:14:45.640470",
     "status": "completed"
    },
    "tags": []
   },
   "outputs": [],
   "source": [
    "svm_clf = SVC(kernel='linear').fit(X,y)"
   ]
  },
  {
   "cell_type": "code",
   "execution_count": 13,
   "metadata": {
    "execution": {
     "iopub.execute_input": "2020-12-14T07:15:31.435317Z",
     "iopub.status.busy": "2020-12-14T07:15:31.434668Z",
     "iopub.status.idle": "2020-12-14T07:15:31.637302Z",
     "shell.execute_reply": "2020-12-14T07:15:31.636710Z"
    },
    "papermill": {
     "duration": 0.224993,
     "end_time": "2020-12-14T07:15:31.637428",
     "exception": false,
     "start_time": "2020-12-14T07:15:31.412435",
     "status": "completed"
    },
    "tags": []
   },
   "outputs": [],
   "source": [
    "from sklearn.ensemble import RandomForestClassifier, VotingClassifier\n",
    "\n",
    "rfc_clf = RandomForestClassifier(max_depth=8, n_estimators=64).fit(X,y)"
   ]
  },
  {
   "cell_type": "code",
   "execution_count": 14,
   "metadata": {
    "execution": {
     "iopub.execute_input": "2020-12-14T07:15:31.681313Z",
     "iopub.status.busy": "2020-12-14T07:15:31.680453Z",
     "iopub.status.idle": "2020-12-14T07:16:08.014918Z",
     "shell.execute_reply": "2020-12-14T07:16:08.015627Z"
    },
    "papermill": {
     "duration": 36.361614,
     "end_time": "2020-12-14T07:16:08.015783",
     "exception": false,
     "start_time": "2020-12-14T07:15:31.654169",
     "status": "completed"
    },
    "tags": []
   },
   "outputs": [
    {
     "data": {
      "text/plain": [
       "VotingClassifier(estimators=[('rfc',\n",
       "                              RandomForestClassifier(max_depth=8,\n",
       "                                                     n_estimators=64)),\n",
       "                             ('lg', LogisticRegression(C=10, max_iter=1000)),\n",
       "                             ('gbt',\n",
       "                              GradientBoostingClassifier(learning_rate=0.01,\n",
       "                                                         max_depth=4,\n",
       "                                                         n_estimators=200)),\n",
       "                             ('svc', SVC(kernel='linear'))],\n",
       "                 n_jobs=-1)"
      ]
     },
     "execution_count": 14,
     "metadata": {},
     "output_type": "execute_result"
    }
   ],
   "source": [
    "voting_clf = VotingClassifier(estimators = [('rfc', rfc_clf),('lg', log_clf), ('gbt', gbt_clf), ('svc', svm_clf)], voting=\"hard\", n_jobs=-1)\n",
    "voting_clf.fit(X,y)"
   ]
  },
  {
   "cell_type": "code",
   "execution_count": 15,
   "metadata": {
    "execution": {
     "iopub.execute_input": "2020-12-14T07:16:08.076196Z",
     "iopub.status.busy": "2020-12-14T07:16:08.075388Z",
     "iopub.status.idle": "2020-12-14T07:16:08.127567Z",
     "shell.execute_reply": "2020-12-14T07:16:08.126891Z"
    },
    "papermill": {
     "duration": 0.086774,
     "end_time": "2020-12-14T07:16:08.127679",
     "exception": false,
     "start_time": "2020-12-14T07:16:08.040905",
     "status": "completed"
    },
    "tags": []
   },
   "outputs": [
    {
     "data": {
      "text/html": [
       "<div>\n",
       "<style scoped>\n",
       "    .dataframe tbody tr th:only-of-type {\n",
       "        vertical-align: middle;\n",
       "    }\n",
       "\n",
       "    .dataframe tbody tr th {\n",
       "        vertical-align: top;\n",
       "    }\n",
       "\n",
       "    .dataframe thead th {\n",
       "        text-align: right;\n",
       "    }\n",
       "</style>\n",
       "<table border=\"1\" class=\"dataframe\">\n",
       "  <thead>\n",
       "    <tr style=\"text-align: right;\">\n",
       "      <th></th>\n",
       "      <th>PassengerId</th>\n",
       "      <th>Survived</th>\n",
       "    </tr>\n",
       "  </thead>\n",
       "  <tbody>\n",
       "    <tr>\n",
       "      <th>0</th>\n",
       "      <td>892</td>\n",
       "      <td>0</td>\n",
       "    </tr>\n",
       "    <tr>\n",
       "      <th>1</th>\n",
       "      <td>893</td>\n",
       "      <td>0</td>\n",
       "    </tr>\n",
       "    <tr>\n",
       "      <th>2</th>\n",
       "      <td>894</td>\n",
       "      <td>0</td>\n",
       "    </tr>\n",
       "    <tr>\n",
       "      <th>3</th>\n",
       "      <td>895</td>\n",
       "      <td>0</td>\n",
       "    </tr>\n",
       "    <tr>\n",
       "      <th>4</th>\n",
       "      <td>896</td>\n",
       "      <td>1</td>\n",
       "    </tr>\n",
       "    <tr>\n",
       "      <th>...</th>\n",
       "      <td>...</td>\n",
       "      <td>...</td>\n",
       "    </tr>\n",
       "    <tr>\n",
       "      <th>413</th>\n",
       "      <td>1305</td>\n",
       "      <td>0</td>\n",
       "    </tr>\n",
       "    <tr>\n",
       "      <th>414</th>\n",
       "      <td>1306</td>\n",
       "      <td>1</td>\n",
       "    </tr>\n",
       "    <tr>\n",
       "      <th>415</th>\n",
       "      <td>1307</td>\n",
       "      <td>0</td>\n",
       "    </tr>\n",
       "    <tr>\n",
       "      <th>416</th>\n",
       "      <td>1308</td>\n",
       "      <td>0</td>\n",
       "    </tr>\n",
       "    <tr>\n",
       "      <th>417</th>\n",
       "      <td>1309</td>\n",
       "      <td>0</td>\n",
       "    </tr>\n",
       "  </tbody>\n",
       "</table>\n",
       "<p>418 rows × 2 columns</p>\n",
       "</div>"
      ],
      "text/plain": [
       "     PassengerId  Survived\n",
       "0            892         0\n",
       "1            893         0\n",
       "2            894         0\n",
       "3            895         0\n",
       "4            896         1\n",
       "..           ...       ...\n",
       "413         1305         0\n",
       "414         1306         1\n",
       "415         1307         0\n",
       "416         1308         0\n",
       "417         1309         0\n",
       "\n",
       "[418 rows x 2 columns]"
      ]
     },
     "execution_count": 15,
     "metadata": {},
     "output_type": "execute_result"
    }
   ],
   "source": [
    "resultz = pd.DataFrame({'PassengerId':dftest['PassengerId'], 'Survived':voting_clf.predict(dftest)})\n",
    "\n",
    "resultz"
   ]
  },
  {
   "cell_type": "code",
   "execution_count": 16,
   "metadata": {
    "execution": {
     "iopub.execute_input": "2020-12-14T07:16:08.170406Z",
     "iopub.status.busy": "2020-12-14T07:16:08.168486Z",
     "iopub.status.idle": "2020-12-14T07:16:08.174026Z",
     "shell.execute_reply": "2020-12-14T07:16:08.173222Z"
    },
    "papermill": {
     "duration": 0.029,
     "end_time": "2020-12-14T07:16:08.174184",
     "exception": false,
     "start_time": "2020-12-14T07:16:08.145184",
     "status": "completed"
    },
    "tags": []
   },
   "outputs": [],
   "source": [
    "resultz.to_csv('submission.csv',index=False)"
   ]
  },
  {
   "cell_type": "code",
   "execution_count": null,
   "metadata": {
    "papermill": {
     "duration": 0.025519,
     "end_time": "2020-12-14T07:16:08.226025",
     "exception": false,
     "start_time": "2020-12-14T07:16:08.200506",
     "status": "completed"
    },
    "tags": []
   },
   "outputs": [],
   "source": []
  }
 ],
 "metadata": {
  "kernelspec": {
   "display_name": "Python 3",
   "language": "python",
   "name": "python3"
  },
  "language_info": {
   "codemirror_mode": {
    "name": "ipython",
    "version": 3
   },
   "file_extension": ".py",
   "mimetype": "text/x-python",
   "name": "python",
   "nbconvert_exporter": "python",
   "pygments_lexer": "ipython3",
   "version": "3.7.6"
  },
  "papermill": {
   "duration": 359.67944,
   "end_time": "2020-12-14T07:16:08.370342",
   "environment_variables": {},
   "exception": null,
   "input_path": "__notebook__.ipynb",
   "output_path": "__notebook__.ipynb",
   "parameters": {},
   "start_time": "2020-12-14T07:10:08.690902",
   "version": "2.1.0"
  }
 },
 "nbformat": 4,
 "nbformat_minor": 4
}
